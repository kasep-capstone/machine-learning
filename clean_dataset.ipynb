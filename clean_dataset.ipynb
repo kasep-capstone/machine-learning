{
 "cells": [
  {
   "cell_type": "markdown",
   "id": "db627a90",
   "metadata": {},
   "source": [
    "# Import Libraries"
   ]
  },
  {
   "cell_type": "code",
   "execution_count": 124,
   "id": "b36eb1a0",
   "metadata": {},
   "outputs": [
    {
     "name": "stdout",
     "output_type": "stream",
     "text": [
      "Requirement already satisfied: pandas in c:\\kuliah\\dbs\\capstone\\machine-learning\\.venv\\lib\\site-packages (2.2.3)\n",
      "Requirement already satisfied: numpy>=1.22.4 in c:\\kuliah\\dbs\\capstone\\machine-learning\\.venv\\lib\\site-packages (from pandas) (2.2.5)\n",
      "Requirement already satisfied: python-dateutil>=2.8.2 in c:\\kuliah\\dbs\\capstone\\machine-learning\\.venv\\lib\\site-packages (from pandas) (2.9.0.post0)\n",
      "Requirement already satisfied: pytz>=2020.1 in c:\\kuliah\\dbs\\capstone\\machine-learning\\.venv\\lib\\site-packages (from pandas) (2025.2)\n",
      "Requirement already satisfied: tzdata>=2022.7 in c:\\kuliah\\dbs\\capstone\\machine-learning\\.venv\\lib\\site-packages (from pandas) (2025.2)\n",
      "Requirement already satisfied: six>=1.5 in c:\\kuliah\\dbs\\capstone\\machine-learning\\.venv\\lib\\site-packages (from python-dateutil>=2.8.2->pandas) (1.17.0)\n"
     ]
    }
   ],
   "source": [
    "!pip install pandas"
   ]
  },
  {
   "cell_type": "code",
   "execution_count": 125,
   "id": "132b141f",
   "metadata": {},
   "outputs": [],
   "source": [
    "import pandas as pd\n",
    "import re"
   ]
  },
  {
   "cell_type": "markdown",
   "id": "ab64a8af",
   "metadata": {},
   "source": [
    "# Combine dataset from scrape dataset"
   ]
  },
  {
   "cell_type": "code",
   "execution_count": 126,
   "id": "e6264c2c",
   "metadata": {},
   "outputs": [],
   "source": [
    "# Daftar path file CSV beserta label kategorinya\n",
    "file_paths = {\n",
    "    r\"raw-dataset\\Scrapcookpad(cleanfood).csv\": \"cleanfood\",\n",
    "    r\"raw-dataset\\Scrapcookpad(diet).csv\": \"diet\",\n",
    "    r\"raw-dataset\\Scrapcookpad(rendahkalori).csv\": \"rendahkalori\",\n",
    "    r\"raw-dataset\\Scrapcookpad(sehat).csv\": \"sehat\"\n",
    "}"
   ]
  },
  {
   "cell_type": "code",
   "execution_count": 127,
   "id": "110dbea9",
   "metadata": {},
   "outputs": [],
   "source": [
    "# Membaca, memberi label, dan menggabungkan semua file CSV\n",
    "dataframes = []\n",
    "for path, label in file_paths.items():\n",
    "    df = pd.read_csv(path)\n",
    "    df['kategori'] = label  # Menambahkan kolom kategori\n",
    "    dataframes.append(df)"
   ]
  },
  {
   "cell_type": "code",
   "execution_count": 128,
   "id": "9cbd6d54",
   "metadata": {},
   "outputs": [],
   "source": [
    "# Gabungkan semua dataframe\n",
    "combined_df = pd.concat(dataframes, ignore_index=True)"
   ]
  },
  {
   "cell_type": "code",
   "execution_count": 129,
   "id": "42186d6f",
   "metadata": {},
   "outputs": [],
   "source": [
    "# Hapus duplikat berdasarkan judul dan url (jika ada)\n",
    "combined_df.drop_duplicates(subset=['Judul', 'URL'], inplace=True)"
   ]
  },
  {
   "cell_type": "code",
   "execution_count": 130,
   "id": "7df6d246",
   "metadata": {},
   "outputs": [],
   "source": [
    "output_path = r\"recipes.csv\"\n",
    "combined_df.to_csv(output_path, index=False)"
   ]
  },
  {
   "cell_type": "code",
   "execution_count": 131,
   "id": "b9380347",
   "metadata": {},
   "outputs": [
    {
     "name": "stdout",
     "output_type": "stream",
     "text": [
      "Jumlah baris: 11934\n",
      "Jumlah kolom: 5\n"
     ]
    }
   ],
   "source": [
    "print(f\"Jumlah baris: {combined_df.shape[0]}\")\n",
    "print(f\"Jumlah kolom: {combined_df.shape[1]}\")"
   ]
  },
  {
   "cell_type": "markdown",
   "id": "032b3ded",
   "metadata": {},
   "source": [
    "# Preprocessing"
   ]
  },
  {
   "cell_type": "code",
   "execution_count": 132,
   "id": "a7e1a0e7",
   "metadata": {},
   "outputs": [
    {
     "data": {
      "text/html": [
       "<div>\n",
       "<style scoped>\n",
       "    .dataframe tbody tr th:only-of-type {\n",
       "        vertical-align: middle;\n",
       "    }\n",
       "\n",
       "    .dataframe tbody tr th {\n",
       "        vertical-align: top;\n",
       "    }\n",
       "\n",
       "    .dataframe thead th {\n",
       "        text-align: right;\n",
       "    }\n",
       "</style>\n",
       "<table border=\"1\" class=\"dataframe\">\n",
       "  <thead>\n",
       "    <tr style=\"text-align: right;\">\n",
       "      <th></th>\n",
       "      <th>Judul</th>\n",
       "      <th>URL</th>\n",
       "      <th>Bahan</th>\n",
       "      <th>Langkah</th>\n",
       "      <th>kategori</th>\n",
       "    </tr>\n",
       "  </thead>\n",
       "  <tbody>\n",
       "    <tr>\n",
       "      <th>0</th>\n",
       "      <td>Steak Ayam Lemon Madu (Eat Clean Series)</td>\n",
       "      <td>https://cookpad.com/id/resep/1419994-steak-aya...</td>\n",
       "      <td>1/2 kg daging dada ayam tanpa tulang; 1/2 buah...</td>\n",
       "      <td>1\\n    \\n\\n\\n\\nKucuri daging ayam dengan sedik...</td>\n",
       "      <td>cleanfood</td>\n",
       "    </tr>\n",
       "    <tr>\n",
       "      <th>1</th>\n",
       "      <td>Bala bala Oatmeal Clean eating</td>\n",
       "      <td>https://cookpad.com/id/resep/14034644-bala-bal...</td>\n",
       "      <td>4 sdm oatmeal instan; 1 buah wortel iris korek...</td>\n",
       "      <td>1\\n    \\n\\n\\n\\nCampur semua bahan jadi satu ta...</td>\n",
       "      <td>cleanfood</td>\n",
       "    </tr>\n",
       "    <tr>\n",
       "      <th>2</th>\n",
       "      <td>Chicken steak (menu diet/clean eating)</td>\n",
       "      <td>https://cookpad.com/id/resep/9595903-chicken-s...</td>\n",
       "      <td>200 gr ayam kampung fillet; Brokoli; Wortel; S...</td>\n",
       "      <td>1\\n    \\n\\n\\n\\nRebus ayam sebentar sampai sete...</td>\n",
       "      <td>cleanfood</td>\n",
       "    </tr>\n",
       "    <tr>\n",
       "      <th>3</th>\n",
       "      <td>Clean Eating Aini'Cooking #2</td>\n",
       "      <td>https://cookpad.com/id/resep/23944711-clean-ea...</td>\n",
       "      <td>1 buah wortel kecil potong dadu; 1 buah jagung...</td>\n",
       "      <td>1\\n    \\n\\n\\n\\nSiapkan semua siapkan semua bah...</td>\n",
       "      <td>cleanfood</td>\n",
       "    </tr>\n",
       "    <tr>\n",
       "      <th>4</th>\n",
       "      <td>Clean Eating Aini'Cooking #4</td>\n",
       "      <td>https://cookpad.com/id/resep/23961936-clean-ea...</td>\n",
       "      <td>Secukupnya ayam yang telah dimarinasi semalama...</td>\n",
       "      <td>1\\n    \\n\\n\\n\\nRebus wortel dan brokoli lalu t...</td>\n",
       "      <td>cleanfood</td>\n",
       "    </tr>\n",
       "  </tbody>\n",
       "</table>\n",
       "</div>"
      ],
      "text/plain": [
       "                                      Judul  \\\n",
       "0  Steak Ayam Lemon Madu (Eat Clean Series)   \n",
       "1            Bala bala Oatmeal Clean eating   \n",
       "2    Chicken steak (menu diet/clean eating)   \n",
       "3              Clean Eating Aini'Cooking #2   \n",
       "4              Clean Eating Aini'Cooking #4   \n",
       "\n",
       "                                                 URL  \\\n",
       "0  https://cookpad.com/id/resep/1419994-steak-aya...   \n",
       "1  https://cookpad.com/id/resep/14034644-bala-bal...   \n",
       "2  https://cookpad.com/id/resep/9595903-chicken-s...   \n",
       "3  https://cookpad.com/id/resep/23944711-clean-ea...   \n",
       "4  https://cookpad.com/id/resep/23961936-clean-ea...   \n",
       "\n",
       "                                               Bahan  \\\n",
       "0  1/2 kg daging dada ayam tanpa tulang; 1/2 buah...   \n",
       "1  4 sdm oatmeal instan; 1 buah wortel iris korek...   \n",
       "2  200 gr ayam kampung fillet; Brokoli; Wortel; S...   \n",
       "3  1 buah wortel kecil potong dadu; 1 buah jagung...   \n",
       "4  Secukupnya ayam yang telah dimarinasi semalama...   \n",
       "\n",
       "                                             Langkah   kategori  \n",
       "0  1\\n    \\n\\n\\n\\nKucuri daging ayam dengan sedik...  cleanfood  \n",
       "1  1\\n    \\n\\n\\n\\nCampur semua bahan jadi satu ta...  cleanfood  \n",
       "2  1\\n    \\n\\n\\n\\nRebus ayam sebentar sampai sete...  cleanfood  \n",
       "3  1\\n    \\n\\n\\n\\nSiapkan semua siapkan semua bah...  cleanfood  \n",
       "4  1\\n    \\n\\n\\n\\nRebus wortel dan brokoli lalu t...  cleanfood  "
      ]
     },
     "execution_count": 132,
     "metadata": {},
     "output_type": "execute_result"
    }
   ],
   "source": [
    "df = pd.read_csv('recipes.csv')\n",
    "df.head()"
   ]
  },
  {
   "cell_type": "code",
   "execution_count": 133,
   "id": "99d6f66c",
   "metadata": {},
   "outputs": [],
   "source": [
    "# Langkah jadi list, hapus newline dan strip\n",
    "def clean_steps(raw_text):\n",
    "    # Pisahkan berdasarkan angka di awal langkah (1\\n, 2\\n, dst.)\n",
    "    steps = re.split(r'\\n?\\s*\\d+\\s*\\n+', raw_text)\n",
    "    # Bersihkan spasi kosong dan newline\n",
    "    cleaned = [re.sub(r'\\s+', ' ', step).strip() for step in steps if step.strip()]\n",
    "    return cleaned\n",
    "\n",
    "df['list_langkah'] = df['Langkah'].apply(clean_steps)"
   ]
  },
  {
   "cell_type": "code",
   "execution_count": 134,
   "id": "1413f4c8",
   "metadata": {},
   "outputs": [],
   "source": [
    "# Bahan jadi list\n",
    "df['list_bahan'] = df['Bahan'].str.split(';').apply(lambda x: [b.strip() for b in x if b.strip()])\n",
    "\n",
    "def clean_bahan(bahan_list):\n",
    "    satuan = r'(kg|gram|gr|sdt|sdm|buah|siung|lembar|ml|liter|ltr|butir|sendok|cup|potong|iris|secukupnya)'\n",
    "    cleaned = []\n",
    "    for b in bahan_list:\n",
    "        # Hilangkan angka, pecahan, dan satuan\n",
    "        b_clean = re.sub(r'\\b\\d+(/\\d+)?\\b', '', b)  # hapus angka & pecahan\n",
    "        b_clean = re.sub(satuan, '', b_clean, flags=re.IGNORECASE)\n",
    "        b_clean = re.sub(r'\\s+', ' ', b_clean).strip()  # hapus spasi berlebih\n",
    "        cleaned.append(b_clean)\n",
    "    return cleaned\n",
    "\n",
    "df['label_bahan'] = df['list_bahan'].apply(clean_bahan)"
   ]
  },
  {
   "cell_type": "code",
   "execution_count": 135,
   "id": "be3ed2c8",
   "metadata": {},
   "outputs": [],
   "source": [
    "# Peta metode masak beserta sinonimnya\n",
    "metode_map = {\n",
    "    'panggang': r'panggang|dipanggang|oven|grill|bakar',\n",
    "    'rebus': r'rebus|mendidih|didihkan|dididihkan',\n",
    "    'kukus': r'kukus|steam|dikukus',\n",
    "    'goreng': r'goreng|digoreng|deep fry|fried|orak arik',\n",
    "    'tumis': r'tumis|saute|ditumis|menumis',\n",
    "    'ungkep': r'ungkep|ungkepan',\n",
    "    'masak': r'masak|memasak|dimasak|panaskan|dimasukkan ke dalam wajan',\n",
    "    'simpan dingin': r'simpan di kulkas|dinginkan|overnight|semalaman|kulkas',\n",
    "    'blender': r'blender|haluskan|dihaluskan|lumatkan|blend',\n",
    "    'campur': r'campur|aduk|tuang|mix|diaduk',\n",
    "}\n",
    "\n",
    "def ekstrak_metode_memasak(langkah_list):\n",
    "    hasil = set()\n",
    "\n",
    "    for langkah in langkah_list:\n",
    "        langkah_lower = langkah.lower()\n",
    "\n",
    "        # Matching keyword\n",
    "        for metode, pattern in metode_map.items():\n",
    "            if re.search(pattern, langkah_lower):\n",
    "                hasil.add(metode)\n",
    "\n",
    "        # Rule-based tambahan (jika perlu tambahkan di sini)\n",
    "        if 'air mendidih' in langkah_lower and 'masukkan' in langkah_lower:\n",
    "            hasil.add('rebus')\n",
    "        if 'tutup dan simpan' in langkah_lower and 'kulkas' in langkah_lower:\n",
    "            hasil.add('simpan dingin')\n",
    "    \n",
    "    return list(hasil)\n",
    "\n",
    "df['metode_memasak'] = df['list_langkah'].apply(ekstrak_metode_memasak)"
   ]
  },
  {
   "cell_type": "code",
   "execution_count": 136,
   "id": "c1120f9d",
   "metadata": {},
   "outputs": [
    {
     "name": "stdout",
     "output_type": "stream",
     "text": [
      "Jumlah baris dengan metode_memasak kosong: 237\n"
     ]
    },
    {
     "data": {
      "text/html": [
       "<div>\n",
       "<style scoped>\n",
       "    .dataframe tbody tr th:only-of-type {\n",
       "        vertical-align: middle;\n",
       "    }\n",
       "\n",
       "    .dataframe tbody tr th {\n",
       "        vertical-align: top;\n",
       "    }\n",
       "\n",
       "    .dataframe thead th {\n",
       "        text-align: right;\n",
       "    }\n",
       "</style>\n",
       "<table border=\"1\" class=\"dataframe\">\n",
       "  <thead>\n",
       "    <tr style=\"text-align: right;\">\n",
       "      <th></th>\n",
       "      <th>Judul</th>\n",
       "      <th>kategori</th>\n",
       "      <th>list_langkah</th>\n",
       "      <th>list_bahan</th>\n",
       "      <th>label_bahan</th>\n",
       "      <th>metode_memasak</th>\n",
       "    </tr>\n",
       "  </thead>\n",
       "  <tbody>\n",
       "    <tr>\n",
       "      <th>0</th>\n",
       "      <td>Steak Ayam Lemon Madu (Eat Clean Series)</td>\n",
       "      <td>cleanfood</td>\n",
       "      <td>[Kucuri daging ayam dengan sedikit air lemon, ...</td>\n",
       "      <td>[1/2 kg daging dada ayam tanpa tulang, 1/2 bua...</td>\n",
       "      <td>[daging dada ayam tanpa tulang, perasan jeruk ...</td>\n",
       "      <td>[masak, panggang, campur]</td>\n",
       "    </tr>\n",
       "    <tr>\n",
       "      <th>1</th>\n",
       "      <td>Bala bala Oatmeal Clean eating</td>\n",
       "      <td>cleanfood</td>\n",
       "      <td>[Campur semua bahan jadi satu tambahkan air se...</td>\n",
       "      <td>[4 sdm oatmeal instan, 1 buah wortel iris kore...</td>\n",
       "      <td>[oatmeal instan, wortel korek api, kol, batang...</td>\n",
       "      <td>[campur]</td>\n",
       "    </tr>\n",
       "    <tr>\n",
       "      <th>2</th>\n",
       "      <td>Chicken steak (menu diet/clean eating)</td>\n",
       "      <td>cleanfood</td>\n",
       "      <td>[Rebus ayam sebentar sampai setengah matang, t...</td>\n",
       "      <td>[200 gr ayam kampung fillet, Brokoli, Wortel, ...</td>\n",
       "      <td>[ayam kampung fillet, Brokoli, Wortel, Slada, ...</td>\n",
       "      <td>[kukus, rebus, masak]</td>\n",
       "    </tr>\n",
       "    <tr>\n",
       "      <th>3</th>\n",
       "      <td>Clean Eating Aini'Cooking #2</td>\n",
       "      <td>cleanfood</td>\n",
       "      <td>[Siapkan semua siapkan semua bahan, cuci bersi...</td>\n",
       "      <td>[1 buah wortel kecil potong dadu, 1 buah jagun...</td>\n",
       "      <td>[wortel kecil dadu, jagung lalu serut, tomat j...</td>\n",
       "      <td>[rebus]</td>\n",
       "    </tr>\n",
       "    <tr>\n",
       "      <th>4</th>\n",
       "      <td>Clean Eating Aini'Cooking #4</td>\n",
       "      <td>cleanfood</td>\n",
       "      <td>[Rebus wortel dan brokoli lalu tiriskan. |, Pa...</td>\n",
       "      <td>[Secukupnya ayam yang telah dimarinasi semalam...</td>\n",
       "      <td>[ayam yang telah dimarinasi semalaman, Brokoli...</td>\n",
       "      <td>[tumis, rebus, masak]</td>\n",
       "    </tr>\n",
       "  </tbody>\n",
       "</table>\n",
       "</div>"
      ],
      "text/plain": [
       "                                      Judul   kategori  \\\n",
       "0  Steak Ayam Lemon Madu (Eat Clean Series)  cleanfood   \n",
       "1            Bala bala Oatmeal Clean eating  cleanfood   \n",
       "2    Chicken steak (menu diet/clean eating)  cleanfood   \n",
       "3              Clean Eating Aini'Cooking #2  cleanfood   \n",
       "4              Clean Eating Aini'Cooking #4  cleanfood   \n",
       "\n",
       "                                        list_langkah  \\\n",
       "0  [Kucuri daging ayam dengan sedikit air lemon, ...   \n",
       "1  [Campur semua bahan jadi satu tambahkan air se...   \n",
       "2  [Rebus ayam sebentar sampai setengah matang, t...   \n",
       "3  [Siapkan semua siapkan semua bahan, cuci bersi...   \n",
       "4  [Rebus wortel dan brokoli lalu tiriskan. |, Pa...   \n",
       "\n",
       "                                          list_bahan  \\\n",
       "0  [1/2 kg daging dada ayam tanpa tulang, 1/2 bua...   \n",
       "1  [4 sdm oatmeal instan, 1 buah wortel iris kore...   \n",
       "2  [200 gr ayam kampung fillet, Brokoli, Wortel, ...   \n",
       "3  [1 buah wortel kecil potong dadu, 1 buah jagun...   \n",
       "4  [Secukupnya ayam yang telah dimarinasi semalam...   \n",
       "\n",
       "                                         label_bahan  \\\n",
       "0  [daging dada ayam tanpa tulang, perasan jeruk ...   \n",
       "1  [oatmeal instan, wortel korek api, kol, batang...   \n",
       "2  [ayam kampung fillet, Brokoli, Wortel, Slada, ...   \n",
       "3  [wortel kecil dadu, jagung lalu serut, tomat j...   \n",
       "4  [ayam yang telah dimarinasi semalaman, Brokoli...   \n",
       "\n",
       "              metode_memasak  \n",
       "0  [masak, panggang, campur]  \n",
       "1                   [campur]  \n",
       "2      [kukus, rebus, masak]  \n",
       "3                    [rebus]  \n",
       "4      [tumis, rebus, masak]  "
      ]
     },
     "execution_count": 136,
     "metadata": {},
     "output_type": "execute_result"
    }
   ],
   "source": [
    "# Hapus kolom yang tidak dibutuhkan\n",
    "df.drop(columns=['URL', 'Bahan', 'Langkah'], inplace=True)\n",
    "\n",
    "# Hapus baris yang mengandung data kosong (NaN)\n",
    "df.dropna(inplace=True)\n",
    "\n",
    "# Buat mask: True untuk baris dengan metode_memasak kosong (list kosong)\n",
    "kosong_mask = df['metode_memasak'].apply(lambda x: isinstance(x, list) and len(x) == 0)\n",
    "\n",
    "# Tampilkan baris yang akan dihapus (opsional, untuk cek)\n",
    "baris_kosong = df[kosong_mask]\n",
    "print(\"Jumlah baris dengan metode_memasak kosong:\", len(baris_kosong))\n",
    "\n",
    "# Hapus baris tersebut dari df\n",
    "df = df[~kosong_mask].reset_index(drop=True)\n",
    "\n",
    "# Cek hasil\n",
    "df.head()"
   ]
  },
  {
   "cell_type": "markdown",
   "id": "6f7c7cb8",
   "metadata": {},
   "source": [
    "# EDA"
   ]
  },
  {
   "cell_type": "code",
   "execution_count": 137,
   "id": "792e0157",
   "metadata": {},
   "outputs": [
    {
     "name": "stdout",
     "output_type": "stream",
     "text": [
      "kategori\n",
      "diet            5795\n",
      "sehat           3850\n",
      "rendahkalori    1795\n",
      "cleanfood        257\n",
      "Name: count, dtype: int64\n",
      "Counter({'campur': 8466, 'masak': 5208, 'rebus': 4218, 'blender': 4001, 'tumis': 3117, 'panggang': 2530, 'goreng': 2299, 'simpan dingin': 1646, 'kukus': 1463, 'ungkep': 63})\n"
     ]
    }
   ],
   "source": [
    "# Jumlah resep per kategori\n",
    "print(df['kategori'].value_counts())\n",
    "\n",
    "# Frekuensi metode memasak\n",
    "from collections import Counter\n",
    "methods = df['metode_memasak'].explode()\n",
    "print(Counter(methods))"
   ]
  },
  {
   "cell_type": "code",
   "execution_count": null,
   "id": "a773c9f7",
   "metadata": {},
   "outputs": [],
   "source": []
  }
 ],
 "metadata": {
  "kernelspec": {
   "display_name": ".venv",
   "language": "python",
   "name": "python3"
  },
  "language_info": {
   "codemirror_mode": {
    "name": "ipython",
    "version": 3
   },
   "file_extension": ".py",
   "mimetype": "text/x-python",
   "name": "python",
   "nbconvert_exporter": "python",
   "pygments_lexer": "ipython3",
   "version": "3.10.11"
  }
 },
 "nbformat": 4,
 "nbformat_minor": 5
}
