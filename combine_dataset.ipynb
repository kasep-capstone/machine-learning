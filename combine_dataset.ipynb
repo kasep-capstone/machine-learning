{
 "cells": [
  {
   "cell_type": "code",
   "execution_count": 2,
   "id": "b36eb1a0",
   "metadata": {},
   "outputs": [
    {
     "name": "stdout",
     "output_type": "stream",
     "text": [
      "Requirement already satisfied: pandas in c:\\kuliah\\dbs\\capstone\\machine-learning\\.venv\\lib\\site-packages (2.2.3)\n",
      "Requirement already satisfied: numpy>=1.22.4 in c:\\kuliah\\dbs\\capstone\\machine-learning\\.venv\\lib\\site-packages (from pandas) (2.2.5)\n",
      "Requirement already satisfied: python-dateutil>=2.8.2 in c:\\kuliah\\dbs\\capstone\\machine-learning\\.venv\\lib\\site-packages (from pandas) (2.9.0.post0)\n",
      "Requirement already satisfied: pytz>=2020.1 in c:\\kuliah\\dbs\\capstone\\machine-learning\\.venv\\lib\\site-packages (from pandas) (2025.2)\n",
      "Requirement already satisfied: tzdata>=2022.7 in c:\\kuliah\\dbs\\capstone\\machine-learning\\.venv\\lib\\site-packages (from pandas) (2025.2)\n",
      "Requirement already satisfied: six>=1.5 in c:\\kuliah\\dbs\\capstone\\machine-learning\\.venv\\lib\\site-packages (from python-dateutil>=2.8.2->pandas) (1.17.0)\n"
     ]
    }
   ],
   "source": [
    "!pip install pandas"
   ]
  },
  {
   "cell_type": "code",
   "execution_count": 3,
   "id": "132b141f",
   "metadata": {},
   "outputs": [],
   "source": [
    "import pandas as pd"
   ]
  },
  {
   "cell_type": "code",
   "execution_count": 4,
   "id": "e6264c2c",
   "metadata": {},
   "outputs": [],
   "source": [
    "# Daftar path file CSV beserta label kategorinya\n",
    "file_paths = {\n",
    "    r\"raw-dataset\\Scrapcookpad(cleanfood).csv\": \"cleanfood\",\n",
    "    r\"raw-dataset\\Scrapcookpad(diet).csv\": \"diet\",\n",
    "    r\"raw-dataset\\Scrapcookpad(rendahkalori).csv\": \"rendahkalori\",\n",
    "    r\"raw-dataset\\Scrapcookpad(sehat).csv\": \"sehat\"\n",
    "}"
   ]
  },
  {
   "cell_type": "code",
   "execution_count": 6,
   "id": "110dbea9",
   "metadata": {},
   "outputs": [],
   "source": [
    "# Membaca, memberi label, dan menggabungkan semua file CSV\n",
    "dataframes = []\n",
    "for path, label in file_paths.items():\n",
    "    df = pd.read_csv(path)\n",
    "    df['kategori'] = label  # Menambahkan kolom kategori\n",
    "    dataframes.append(df)"
   ]
  },
  {
   "cell_type": "code",
   "execution_count": 7,
   "id": "9cbd6d54",
   "metadata": {},
   "outputs": [],
   "source": [
    "# Gabungkan semua dataframe\n",
    "combined_df = pd.concat(dataframes, ignore_index=True)"
   ]
  },
  {
   "cell_type": "code",
   "execution_count": 9,
   "id": "42186d6f",
   "metadata": {},
   "outputs": [],
   "source": [
    "# Hapus duplikat berdasarkan judul dan url (jika ada)\n",
    "combined_df.drop_duplicates(subset=['Judul', 'URL'], inplace=True)"
   ]
  },
  {
   "cell_type": "code",
   "execution_count": 10,
   "id": "ce88a42e",
   "metadata": {},
   "outputs": [
    {
     "name": "stdout",
     "output_type": "stream",
     "text": [
      "Dataset gabungan berhasil disimpan di: dataset_gabungan.csv\n"
     ]
    }
   ],
   "source": [
    "output_path = r\"dataset_gabungan.csv\"\n",
    "combined_df.to_csv(output_path, index=False)\n",
    "\n",
    "print(f\"Dataset gabungan berhasil disimpan di: {output_path}\")"
   ]
  },
  {
   "cell_type": "code",
   "execution_count": 11,
   "id": "b9380347",
   "metadata": {},
   "outputs": [
    {
     "name": "stdout",
     "output_type": "stream",
     "text": [
      "Jumlah baris: 11934\n",
      "Jumlah kolom: 5\n"
     ]
    }
   ],
   "source": [
    "print(f\"Jumlah baris: {combined_df.shape[0]}\")\n",
    "print(f\"Jumlah kolom: {combined_df.shape[1]}\")"
   ]
  }
 ],
 "metadata": {
  "kernelspec": {
   "display_name": ".venv",
   "language": "python",
   "name": "python3"
  },
  "language_info": {
   "codemirror_mode": {
    "name": "ipython",
    "version": 3
   },
   "file_extension": ".py",
   "mimetype": "text/x-python",
   "name": "python",
   "nbconvert_exporter": "python",
   "pygments_lexer": "ipython3",
   "version": "3.10.11"
  }
 },
 "nbformat": 4,
 "nbformat_minor": 5
}
